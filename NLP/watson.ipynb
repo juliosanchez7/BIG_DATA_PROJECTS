{
 "cells": [
  {
   "cell_type": "markdown",
   "metadata": {},
   "source": [
    "## Text to speech with python and ibm watson"
   ]
  },
  {
   "cell_type": "markdown",
   "metadata": {},
   "source": [
    "we are going to explore the ibm tools to create an mp3 file giving a text file.\n",
    "First of all, we need to install ibm_watson, then we need to create an account in https://cloud.ibm.com/login to create our Text to Speech dependecy and obtein our atentication parameters (url and apikey)"
   ]
  },
  {
   "cell_type": "markdown",
   "metadata": {},
   "source": [
    "### Installing Dependencies"
   ]
  },
  {
   "cell_type": "code",
   "execution_count": 1,
   "metadata": {},
   "outputs": [
    {
     "name": "stdout",
     "output_type": "stream",
     "text": [
      "Requirement already satisfied: ibm_watson in /Users/juliosanchez/opt/anaconda3/lib/python3.8/site-packages (5.1.0)\n",
      "Requirement already satisfied: websocket-client==0.48.0 in /Users/juliosanchez/opt/anaconda3/lib/python3.8/site-packages (from ibm_watson) (0.48.0)\n",
      "Requirement already satisfied: ibm-cloud-sdk-core>=3.3.6 in /Users/juliosanchez/opt/anaconda3/lib/python3.8/site-packages (from ibm_watson) (3.10.0)\n",
      "Requirement already satisfied: requests<3.0,>=2.0 in /Users/juliosanchez/opt/anaconda3/lib/python3.8/site-packages (from ibm_watson) (2.24.0)\n",
      "Requirement already satisfied: python-dateutil>=2.5.3 in /Users/juliosanchez/opt/anaconda3/lib/python3.8/site-packages (from ibm_watson) (2.8.1)\n",
      "Requirement already satisfied: six in /Users/juliosanchez/opt/anaconda3/lib/python3.8/site-packages (from websocket-client==0.48.0->ibm_watson) (1.15.0)\n",
      "Requirement already satisfied: PyJWT<3.0.0,>=2.0.1 in /Users/juliosanchez/opt/anaconda3/lib/python3.8/site-packages (from ibm-cloud-sdk-core>=3.3.6->ibm_watson) (2.1.0)\n",
      "Requirement already satisfied: idna<3,>=2.5 in /Users/juliosanchez/opt/anaconda3/lib/python3.8/site-packages (from requests<3.0,>=2.0->ibm_watson) (2.10)\n",
      "Requirement already satisfied: urllib3!=1.25.0,!=1.25.1,<1.26,>=1.21.1 in /Users/juliosanchez/opt/anaconda3/lib/python3.8/site-packages (from requests<3.0,>=2.0->ibm_watson) (1.25.11)\n",
      "Requirement already satisfied: certifi>=2017.4.17 in /Users/juliosanchez/opt/anaconda3/lib/python3.8/site-packages (from requests<3.0,>=2.0->ibm_watson) (2020.6.20)\n",
      "Requirement already satisfied: chardet<4,>=3.0.2 in /Users/juliosanchez/opt/anaconda3/lib/python3.8/site-packages (from requests<3.0,>=2.0->ibm_watson) (3.0.4)\n"
     ]
    }
   ],
   "source": [
    "!pip install ibm_watson"
   ]
  },
  {
   "cell_type": "markdown",
   "metadata": {},
   "source": [
    "## Autenticating"
   ]
  },
  {
   "cell_type": "code",
   "execution_count": 2,
   "metadata": {},
   "outputs": [],
   "source": [
    "url = 'https://api.us-south.text-to-speech.watson.cloud.ibm.com/instances/4c8a2681-76b4-4e0b-853f-ba61f66a697a'\n",
    "apikey= 'c1qgG8jNZqYcH_L8CSBk7tdrOzMw9SGIvI1y1jde5uWP'"
   ]
  },
  {
   "cell_type": "markdown",
   "metadata": {},
   "source": [
    "After that, we can import TextToSpeechV1 library"
   ]
  },
  {
   "cell_type": "code",
   "execution_count": 3,
   "metadata": {},
   "outputs": [],
   "source": [
    "from ibm_watson import TextToSpeechV1\n",
    "from ibm_cloud_sdk_core.authenticators import IAMAuthenticator\n"
   ]
  },
  {
   "cell_type": "code",
   "execution_count": 4,
   "metadata": {},
   "outputs": [],
   "source": [
    "authenticator = IAMAuthenticator(apikey)\n",
    "tts = TextToSpeechV1(authenticator=authenticator)\n",
    "tts.set_service_url(url)"
   ]
  },
  {
   "cell_type": "markdown",
   "metadata": {},
   "source": [
    "Then, we can open our txt file and convert it in an audible mp3 file "
   ]
  },
  {
   "cell_type": "code",
   "execution_count": 5,
   "metadata": {},
   "outputs": [
    {
     "data": {
      "text/plain": [
       "['We shall go on to the end, we shall fight in France, we shall fight on the seas and oceans, \\n',\n",
       " 'we shall fight with growing confidence and growing strength in the air, we shall defend our \\n',\n",
       " 'Island, whatever the cost may be, we shall fight on the beaches, we shall fight on the landing \\n',\n",
       " 'grounds, we shall fight in the fields and in the streets, we shall fight in the hills; we \\n',\n",
       " 'shall never surrender, and even if, which I do not for a moment believe, this Island or a \\n',\n",
       " 'large part of it were subjugated and starving, then our Empire beyond the seas, armed and \\n',\n",
       " 'guarded by the British Fleet, would carry on the struggle, until, in God’s good time, the \\n',\n",
       " 'New World, with all its power and might, steps forth to the rescue and the liberation of the old.']"
      ]
     },
     "execution_count": 5,
     "metadata": {},
     "output_type": "execute_result"
    }
   ],
   "source": [
    "with open('./Churchill.txt','r') as f:\n",
    "    text = f.readlines()\n",
    "text"
   ]
  },
  {
   "cell_type": "code",
   "execution_count": 6,
   "metadata": {},
   "outputs": [
    {
     "data": {
      "text/plain": [
       "'We shall go on to the end, we shall fight in France, we shall fight on the seas and oceans, we shall fight with growing confidence and growing strength in the air, we shall defend our Island, whatever the cost may be, we shall fight on the beaches, we shall fight on the landing grounds, we shall fight in the fields and in the streets, we shall fight in the hills; we shall never surrender, and even if, which I do not for a moment believe, this Island or a large part of it were subjugated and starving, then our Empire beyond the seas, armed and guarded by the British Fleet, would carry on the struggle, until, in God’s good time, the New World, with all its power and might, steps forth to the rescue and the liberation of the old.'"
      ]
     },
     "execution_count": 6,
     "metadata": {},
     "output_type": "execute_result"
    }
   ],
   "source": [
    "text = [line.replace('\\n', '') for line in text]\n",
    "text = ''.join(str(line) for line in text) \n",
    "text"
   ]
  },
  {
   "cell_type": "code",
   "execution_count": 7,
   "metadata": {},
   "outputs": [],
   "source": [
    "with open('./churchill.mp3','wb') as audio_file:\n",
    "    res = tts.synthesize(text, accept='audio/mp3',voice='en-US_AllisonV3Voice').get_result()\n",
    "    audio_file.write(res.content)"
   ]
  },
  {
   "cell_type": "markdown",
   "metadata": {},
   "source": [
    "we can use different alnguages too!"
   ]
  },
  {
   "cell_type": "code",
   "execution_count": 8,
   "metadata": {},
   "outputs": [],
   "source": [
    "voice = 'fr-FR_ReneeV3Voice'"
   ]
  },
  {
   "cell_type": "code",
   "execution_count": 9,
   "metadata": {},
   "outputs": [],
   "source": [
    "frere = \"\"\"Frère Jacques\n",
    "    Frère Jacques\n",
    "    Dormez-vous?\n",
    "    Dormez-vous?\n",
    "    Sonnez les matines\n",
    "    Sonnez les matines\n",
    "    Ding, ding, dong\n",
    "    Ding, ding, dong\n",
    "    Frère Jacques\n",
    "    Frère Jacques\n",
    "    Dormez-vous?\n",
    "    Dormez-vous?\n",
    "    Sonnez les matines\n",
    "    Sonnez les matines\n",
    "    Ding, ding, dong\n",
    "    Ding, ding, dong\n",
    "    Ding, ding, dong\n",
    "    Ding, ding, dong\"\"\""
   ]
  },
  {
   "cell_type": "code",
   "execution_count": 10,
   "metadata": {},
   "outputs": [],
   "source": [
    "with open('./frere.mp3', 'wb') as audio_file:\n",
    "    res = tts.synthesize(frere, accept='audio/mp3', voice='fr-FR_ReneeV3Voice').get_result()\n",
    "    audio_file.write(res.content)"
   ]
  },
  {
   "cell_type": "code",
   "execution_count": null,
   "metadata": {},
   "outputs": [],
   "source": []
  }
 ],
 "metadata": {
  "kernelspec": {
   "display_name": "Python 3",
   "language": "python",
   "name": "python3"
  },
  "language_info": {
   "codemirror_mode": {
    "name": "ipython",
    "version": 3
   },
   "file_extension": ".py",
   "mimetype": "text/x-python",
   "name": "python",
   "nbconvert_exporter": "python",
   "pygments_lexer": "ipython3",
   "version": "3.8.5"
  }
 },
 "nbformat": 4,
 "nbformat_minor": 4
}
